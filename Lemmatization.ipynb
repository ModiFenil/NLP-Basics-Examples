{
 "cells": [
  {
   "cell_type": "markdown",
   "id": "b8fe0f22-82d2-496e-b8cf-ab1cc0a14dd8",
   "metadata": {},
   "source": [
    "# Lemmatizer"
   ]
  },
  {
   "cell_type": "code",
   "execution_count": 1,
   "id": "925cb552-432c-49b5-ad8f-f919443e90e3",
   "metadata": {},
   "outputs": [],
   "source": [
    "from nltk.stem import WordNetLemmatizer"
   ]
  },
  {
   "cell_type": "code",
   "execution_count": 2,
   "id": "bebe79c0-c6b2-47e7-90e0-a0758443c5bf",
   "metadata": {},
   "outputs": [],
   "source": [
    "lemmatizer = WordNetLemmatizer() "
   ]
  },
  {
   "cell_type": "code",
   "execution_count": 12,
   "id": "d9af5a66-0baa-41db-b2a5-a2ab29ad36ad",
   "metadata": {},
   "outputs": [
    {
     "data": {
      "text/plain": [
       "'congretulation'"
      ]
     },
     "execution_count": 12,
     "metadata": {},
     "output_type": "execute_result"
    }
   ],
   "source": [
    "lemmatizer.lemmatize('congretulation',pos='a')"
   ]
  },
  {
   "cell_type": "code",
   "execution_count": 13,
   "id": "1790124d-b58c-4b0a-b07d-c354c897291e",
   "metadata": {},
   "outputs": [],
   "source": [
    "words = ['eating','eaten','eats','writing','writes','programming','programs','history','finally','finalize']"
   ]
  },
  {
   "cell_type": "code",
   "execution_count": 20,
   "id": "84252824-a5d0-4395-b756-e4d13b7cc2e9",
   "metadata": {},
   "outputs": [
    {
     "name": "stdout",
     "output_type": "stream",
     "text": [
      "eating------->eat\n",
      "eaten------->eat\n",
      "eats------->eat\n",
      "writing------->write\n",
      "writes------->write\n",
      "programming------->program\n",
      "programs------->program\n",
      "history------->history\n",
      "finally------->finally\n",
      "finalize------->finalize\n"
     ]
    }
   ],
   "source": [
    "for word in words:\n",
    "    print(word + \"------->\" + lemmatizer.lemmatize(word,pos='v'))"
   ]
  },
  {
   "cell_type": "code",
   "execution_count": null,
   "id": "aa65da72-2dcb-4563-8a66-1264491609fc",
   "metadata": {},
   "outputs": [],
   "source": []
  }
 ],
 "metadata": {
  "kernelspec": {
   "display_name": "Python 3 (ipykernel)",
   "language": "python",
   "name": "python3"
  },
  "language_info": {
   "codemirror_mode": {
    "name": "ipython",
    "version": 3
   },
   "file_extension": ".py",
   "mimetype": "text/x-python",
   "name": "python",
   "nbconvert_exporter": "python",
   "pygments_lexer": "ipython3",
   "version": "3.12.4"
  }
 },
 "nbformat": 4,
 "nbformat_minor": 5
}
